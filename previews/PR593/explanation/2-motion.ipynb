{
 "cells": [
  {
   "cell_type": "markdown",
   "source": [
    "# Motion"
   ],
   "metadata": {}
  },
  {
   "outputs": [],
   "cell_type": "code",
   "source": [
    "using KomaMRI #hide\n",
    "using PlotlyJS #hide\n",
    "obj = brain_phantom2D(); #hide"
   ],
   "metadata": {},
   "execution_count": null
  },
  {
   "cell_type": "markdown",
   "source": [
    "Koma can easily simulate the effects of motion during acquisitions.\n",
    "As introduced in the [previous section](1-phantom.md), the motion-related information\n",
    "of the phantom is stored in the `motion` field of its structure."
   ],
   "metadata": {}
  },
  {
   "cell_type": "markdown",
   "source": [
    "Koma's motion model has been designed to accomodate a variety of real-world scenarios, including:"
   ],
   "metadata": {}
  },
  {
   "cell_type": "markdown",
   "source": [
    "- [Patient motion inside a scanner](../tutorial/05-SimpleMotion.md), which may involve simultaneous or sequential translations and rotations of body parts during the acquisition.\n",
    "- Myocardial motion, including simulataneous contraction, rotation, torsion, and translation motion within the cardiac cycle.\n",
    "- Pseudo-periodic heart patterns, caused by variations in heart rate or arrhythmias that prevent the heart's motion from being perfectly periodic.\n",
    "- Flow through blood vessels, where the spin trajectories or fluid fields may have been obtained from Computational Fluid Dynamics (CFD) simulations.\n",
    "- [Diffusion](../tutorial/06-DiffusionMotion.md), which can be modeled, among many other ways, as microscopic Brownian spin trajectories."
   ],
   "metadata": {}
  },
  {
   "cell_type": "markdown",
   "source": [
    "... And, ultimately, any type of motion you can think of, no matter how complex!"
   ],
   "metadata": {}
  },
  {
   "cell_type": "markdown",
   "source": [
    "To handle these scenarios, Koma represents motion as a collection of elementary movements that can be independently\n",
    "configured and combined. This approach allows for the definition of any complex motion pattern, with the ability to\n",
    "specify overlapping time intervals and even model bidirectional motions along predefined trajectories."
   ],
   "metadata": {}
  },
  {
   "cell_type": "markdown",
   "source": [
    "## Understanding the `motion` field and its possible values\n",
    "The `motion` field within the `Phantom` struct can take different values depending on whether the phantom is static or dynamic.\n",
    "For static phantoms, the field is set to `NoMotion`. For dynamic phantoms, the field can be either a `Motion` or a `MotionList` struct.\n",
    "A `Motion` represents a single movement, characterized by an `action`, a `time` curve, and a range of affected `spins`.\n",
    "Regarding the `MotionList` struct, it is simply a collection of `Motion` instances, which is useful for defining motion compositions."
   ],
   "metadata": {}
  },
  {
   "cell_type": "markdown",
   "source": [
    "```julia\n",
    "struct Phantom{T<:Real}\n",
    "    (...)\n",
    "    #Motion\n",
    "    motion::Union{NoMotion, Motion{T}, MotionList{T}} = NoMotion()\n",
    "end\n",
    "```"
   ],
   "metadata": {}
  },
  {
   "cell_type": "markdown",
   "source": [
    "### `NoMotion` struct\n",
    "`NoMotion` is the default type for static phantoms. Since its structure has no fields, making a phantom static is as simple as:"
   ],
   "metadata": {}
  },
  {
   "outputs": [],
   "cell_type": "code",
   "source": [
    "obj.motion = NoMotion();"
   ],
   "metadata": {},
   "execution_count": null
  },
  {
   "cell_type": "markdown",
   "source": [
    "### `Motion` struct\n",
    "The `Motion` struct contains information about a basic motion, understood as the combination of an `action`, a `time` curve and a `spins` span.\n",
    "This three fields will be described in detail later. Here is an example of how to assign a motion to a phantom in this case:"
   ],
   "metadata": {}
  },
  {
   "outputs": [],
   "cell_type": "code",
   "source": [
    "obj.motion = Motion(Translate(0.0, 0.1, 0.2), TimeRange(0.0, 1.0), AllSpins());"
   ],
   "metadata": {},
   "execution_count": null
  },
  {
   "cell_type": "markdown",
   "source": [
    "> **Note**\n",
    ">\n",
    "> There are `Motion` constructors that simplify its definition:\n",
    "> ```julia\n",
    "> obj.motion = Translate(0.0, 0.1, 0.2, TimeRange(0.0, 1.0), AllSpins())\n",
    "> ```"
   ],
   "metadata": {}
  },
  {
   "cell_type": "markdown",
   "source": [
    "### `MotionList` struct\n",
    "The `MotionList` struct contains a single field called `motions`, which is a vector of `Motion` instances.\n",
    "This design makes it possible to define both sequential and simultaneous concatenations of motions over time.\n",
    "An example of how this would be used is:"
   ],
   "metadata": {}
  },
  {
   "outputs": [],
   "cell_type": "code",
   "source": [
    "obj.motion = MotionList(\n",
    "    Motion(Translate(0.0, 0.1, 0.2), TimeRange(0.0, 1.0), AllSpins()),\n",
    "    Motion(Rotate(0.0, 0.0, 45.0, (0.0, 0.0, 0.0)), Periodic(1.0, 0.5), SpinRange(1:1000))\n",
    ");"
   ],
   "metadata": {},
   "execution_count": null
  },
  {
   "cell_type": "markdown",
   "source": [
    "## The `Motion` structure and its fields\n",
    "The `Motion` struct is the basic building block for defining motion in Koma.\n",
    "As we mentioned earlier, it has three main fields: `action`, `time`, and `spins`.\n",
    "Together, these fields define what the motion is, when it happens, and which spins are involved:\n",
    "```julia\n",
    "struct Motion{T<:Real}\n",
    "    action::AbstractAction{T}\n",
    "    time  ::TimeCurve{T}\n",
    "    spins ::AbstractSpinSpan\n",
    "end\n",
    "```"
   ],
   "metadata": {}
  },
  {
   "cell_type": "markdown",
   "source": [
    "### The `action` field\n",
    "Let's start with the `action` field, which defines the type and magnitude (i.e., the final state) of the motion.\n",
    "Currently, Koma supports five actions: `Translate`, `Rotate`, `HeartBeat`, `Path`, and `FlowPath`.\n",
    "The first three fall under the category of _SimpleActions_, while the last two belong to the _ArbitraryActions_.\n",
    "_SimpleActions_ are defined by parameters that are easy to understand and use, such as translation distance, rotation angles, or contraction rates.\n",
    "_ArbitraryActions_, on the other hand, are more complex and can be defined by a set of spin trajectories."
   ],
   "metadata": {}
  },
  {
   "cell_type": "markdown",
   "source": [
    "### The `time` field\n",
    "The `time` field defines how the motion behaves over time and must be an instance of the `TimeCurve` struct, which\n",
    "works similarly to animation curves in video editing, 3D design, or video games. Essentially, it allows you to adjust the \"timing\" of\n",
    "the motion without affecting its magnitude or other characteristics."
   ],
   "metadata": {}
  },
  {
   "cell_type": "markdown",
   "source": [
    "Given an initial and final state (see the `action` field), time curves allow you to define how the transition between\n",
    "those states should occur. The `TimeCurve` structure lets you define an animation curve by specifying the coordinates\n",
    "of its points, along with two additional parameters that control its periodicity and pseudo-periodicity:"
   ],
   "metadata": {}
  },
  {
   "cell_type": "markdown",
   "source": [
    "```julia\n",
    "struct TimeCurve{T<:Real}\n",
    "    t::AbstractVector{T}\n",
    "    t_unit::AbstractVector{T}\n",
    "    periodic::Bool\n",
    "    periods::Union{T,AbstractVector{T}}\n",
    "end\n",
    "```"
   ],
   "metadata": {}
  },
  {
   "cell_type": "markdown",
   "source": [
    "This enables you to create any type of curve, and thus, any kind of motion pattern over time."
   ],
   "metadata": {}
  },
  {
   "cell_type": "markdown",
   "source": [
    "A full description of this structure, including examples and constructors, can be found in the [`TimeCurve` API reference](../reference/2-koma-base.md#KomaMRIBase.TimeCurve)."
   ],
   "metadata": {}
  },
  {
   "cell_type": "markdown",
   "source": [
    "### The `spins` field\n",
    "Finally, the `spins` field must be an instance of the [`AbstractSpinSpan`](../reference/2-koma-base.md#AbstractSpinSpan-types) type.\n",
    "It defines which spins in the phantom are affected by the motion, and which of them remain static.\n",
    "This allows you to define motions that only affect a subset of spins, while keeping others unaffected."
   ],
   "metadata": {}
  },
  {
   "cell_type": "markdown",
   "source": [
    "## See it in action\n",
    "Now that we have a basic understanding of the `motion` field and its components, let's see some usage examples.\n",
    "In all cases, we start with the same phantom: a hollow cube with 1 mm side length and 20 µm spin spacing,\n",
    "centered at the origin and aligned with the coordinate axes. To make the motion easier to visualize,\n",
    "each face of the cube is given a different T1 value:"
   ],
   "metadata": {}
  },
  {
   "outputs": [],
   "cell_type": "code",
   "source": [
    "L = 1e-3 #hide\n",
    "Δx = 20e-6 #hide\n",
    "x = y = z = -L/2:Δx:L/2 #hide\n",
    "xx = reshape(x, (length(x),1,1)) #hide\n",
    "yy = reshape(y, (1,length(y),1)) #hide\n",
    "zz = reshape(z, (1,1,length(z))) #hide\n",
    "x = 1*xx .+ 0*yy .+ 0*zz #hide\n",
    "y = 0*xx .+ 1*yy .+ 0*zz #hide\n",
    "z = 0*xx .+ 0*yy .+ 1*zz #hide\n",
    "◼(L) =((abs.(x) .<= L/2) .& (abs.(y) .<= L/2) .& (abs.(z) .<= L/2)) #hide\n",
    "cube = ◼(L) - ◼(L - Δx) # Hollow cube #hide\n",
    "ρ = 1.0*cube #proton density #hide\n",
    "T1 = copy(ρ) #hide\n",
    "T1s = [100, 500, 1000, 2500, 2000, 1500] .* 1e-3 #hide\n",
    "idx_T1 = 1 #hide\n",
    "ϵ = 1e-5 #hide\n",
    "for (i, x) in enumerate([x,y,z]) #hide\n",
    "    for (j, L) in enumerate([-L/2, L/2]) #hide\n",
    "        T1[(L - ϵ) .<= x .<= (L + ϵ)] .= T1s[idx_T1] #hide\n",
    "        global idx_T1 += 1 #hide\n",
    "    end #hide\n",
    "end #hide\n",
    "obj = Phantom( x=x[ρ .!= 0], y=y[ρ .!= 0], z=z[ρ .!= 0], T1 = T1[ρ .!= 0] ); #hide\n",
    "p = plot_phantom_map(obj, :T1; height=440); #hide"
   ],
   "metadata": {},
   "execution_count": null
  },
  {
   "cell_type": "markdown",
   "source": [
    "### Translation motion\n",
    "In this first example, we've added a translational motion of -0.5, 0.6, and 0.7 mm along the\n",
    "three spatial directions. The motion lasts for 1 second and affects the entire phantom:"
   ],
   "metadata": {}
  },
  {
   "outputs": [],
   "cell_type": "code",
   "source": [
    "obj.motion = Translate(-5e-4, 6e-4, 7e-4, TimeRange(0.0, 1.0), AllSpins());"
   ],
   "metadata": {},
   "execution_count": null
  },
  {
   "cell_type": "markdown",
   "source": [
    "Let’s plot this phantom and see how it moves. The `time_samples` argument specifies the number of time samples to be plotted.\n",
    "You can use the bottom slider to scroll through time and check its exact position at each moment:"
   ],
   "metadata": {}
  },
  {
   "outputs": [],
   "cell_type": "code",
   "source": [
    "p1 = plot_phantom_map(obj, :T1; time_samples=11, height=440)"
   ],
   "metadata": {},
   "execution_count": null
  },
  {
   "cell_type": "markdown",
   "source": [
    "### Rotation motion\n",
    "In this case, we add a rotational motion to the phantom: 90º around the y-axis and 75º around\n",
    "the z-axis. Like before, the motion lasts for 1 second and affects all spins in the phantom:"
   ],
   "metadata": {}
  },
  {
   "outputs": [],
   "cell_type": "code",
   "source": [
    "obj.motion = Rotate(0.0, 90.0, 75.0, TimeRange(0.0, 1.0), AllSpins());\n",
    "\n",
    "p2 = plot_phantom_map(obj, :T1; time_samples=11, height=440) #hide"
   ],
   "metadata": {},
   "execution_count": null
  },
  {
   "cell_type": "markdown",
   "source": [
    "### Adding motion to a phantom subset\n",
    "Sometimes, you may want to assign motion to just a part of the phantom instead of the whole thing.\n",
    "This can be done using the `SpinRange` structure, where you specify the indices of the spins that\n",
    "should be affected. In this example, we apply a translational motion to the upper half of the phantom:"
   ],
   "metadata": {}
  },
  {
   "outputs": [],
   "cell_type": "code",
   "source": [
    "obj.motion = Translate(-5e-4, 6e-4, 7e-4, TimeRange(0.0, 1.0), SpinRange(7500:15002));\n",
    "\n",
    "p3 = plot_phantom_map(obj, :T1; time_samples=11, height=440); #hide"
   ],
   "metadata": {},
   "execution_count": null
  },
  {
   "cell_type": "markdown",
   "source": [
    "### Motion combination\n",
    "You can freely add multiple motions to a phantom, each with its own type, time span,\n",
    "and affected spin range. These motions can overlap in time (affecting the phantom simultaneously)\n",
    "or happen one after another. Both cases are fully supported, so you're free to combine different\n",
    "effects across various parts of the phantom and time intervals, creating as complex a motion pattern as you need."
   ],
   "metadata": {}
  },
  {
   "cell_type": "markdown",
   "source": [
    "This example shows two brain phantoms undergoing the same translational and rotational motions, but with\n",
    "different time spans. In the top phantom, the translation takes place from 0 to 0.5 seconds, followed by the\n",
    "rotation from 0.5 to 1 second. In the bottom phantom, both motions happen over the same time span, from 0 to 1 second:"
   ],
   "metadata": {}
  },
  {
   "outputs": [],
   "cell_type": "code",
   "source": [
    "obj1 = brain_phantom2D() #hide\n",
    "obj2 = copy(obj1) #hide\n",
    "obj1.x .-= 20e-2; obj2.x .-= 20e-2 #hide\n",
    "obj1.y .+= 12e-2; obj2.y .-= 12e-2 #hide\n",
    "obj1.motion = MotionList(\n",
    "    Translate(40e-2, 0.0, 0.0, TimeRange(0.0, 0.5),AllSpins()),\n",
    "    Rotate(0.0, 0.0, 90.0, TimeRange(0.5, 1.0),AllSpins()),\n",
    ")\n",
    "\n",
    "obj2.motion = MotionList(\n",
    "    Translate(40e-2, 0.0, 0.0, TimeRange(0.0, 1.0),AllSpins()),\n",
    "    Rotate(0.0, 0.0, 90.0, TimeRange(0.0, 1.0),AllSpins()),\n",
    ")\n",
    "\n",
    "obj = obj1 + obj2\n",
    "p4 = plot_phantom_map(obj, :T1; time_samples=11, view_2d=true, height=440) #hide"
   ],
   "metadata": {},
   "execution_count": null
  },
  {
   "cell_type": "markdown",
   "source": [
    "### Realistic head motion\n",
    "As a more realistic final example, let's try to replicate the head motion made by a patient inside the scanner.\n",
    "This motion consists of a series of translations and rotations, with the rotation center being the neck:"
   ],
   "metadata": {}
  },
  {
   "outputs": [],
   "cell_type": "code",
   "source": [
    "obj = brain_phantom2D();\n",
    "\n",
    "tx = [5, -2, -3,  6,  4, -1] .* 1e-3; # Translation in x [m]\n",
    "ty = [-5, 2,  4, -2, -3,  5] .* 1e-3; # Translation in y [m]\n",
    "rz = [4, -7,  6,  2, -5,  4] .* 1e0;  # Rotation in z    [º]\n",
    "\n",
    "rotation_center = (0.0, -3.0, 0.0) .* 1e-2; # Rotation around the neck\n",
    "dt = 0.03;\n",
    "\n",
    "translations = [Translate(tx[i], ty[i], 0.0, TimeRange(dt*(i-1),dt*i)) for i in 1:length(tx)];\n",
    "rotations    = [Rotate(0.0, 0.0, rz[i], TimeRange(dt*(i-1),dt*i); center=rotation_center) for i in 1:length(rz)];\n",
    "\n",
    "obj.motion = MotionList(vcat(translations,rotations));\n",
    "\n",
    "p5 = plot_phantom_map(obj, :T1; time_samples=20, view_2d=true, height=440) #hide\n",
    "\n",
    "\n",
    "p6 = plot( #hide\n",
    "    0:dt:dt*length(tx) .*1e3, #hide\n",
    "    [cumsum(tx) * 1e3 cumsum(ty) * 1e3 cumsum(rz)], #hide\n",
    "    Layout( #hide\n",
    "        title = \"Head motion profile\", #hide\n",
    "        xaxis_title = \"time (ms)\", #hide\n",
    "        yaxis_title = \"Position\" #hide\n",
    "    )) #hide\n",
    "restyle!(p6,1:3, name=[\"X-Trans (mm)\", \"Y-Trans (mm)\", \"Z-Rot (º)\"]); #hide"
   ],
   "metadata": {},
   "execution_count": null
  },
  {
   "cell_type": "markdown",
   "source": [
    "---\n",
    "\n",
    "*This notebook was generated using [Literate.jl](https://github.com/fredrikekre/Literate.jl).*"
   ],
   "metadata": {}
  }
 ],
 "nbformat_minor": 3,
 "metadata": {
  "language_info": {
   "file_extension": ".jl",
   "mimetype": "application/julia",
   "name": "julia",
   "version": "1.11.6"
  },
  "kernelspec": {
   "name": "julia-1.11",
   "display_name": "Julia 1.11.6",
   "language": "julia"
  }
 },
 "nbformat": 4
}
