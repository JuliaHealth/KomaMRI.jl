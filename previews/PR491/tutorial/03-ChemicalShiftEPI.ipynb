{
 "cells": [
  {
   "cell_type": "markdown",
   "source": [
    "# Chemical Shift in an EPI sequence"
   ],
   "metadata": {}
  },
  {
   "outputs": [],
   "cell_type": "code",
   "source": [
    "using KomaMRI # hide\n",
    "sys = Scanner() # hide"
   ],
   "metadata": {},
   "execution_count": null
  },
  {
   "cell_type": "markdown",
   "source": [
    "For a more realistic example, we will use a brain phantom."
   ],
   "metadata": {}
  },
  {
   "outputs": [],
   "cell_type": "code",
   "source": [
    "obj = brain_phantom2D() # a slice of a brain\n",
    "p1 = plot_phantom_map(obj, :T2 ; height=400, width=400, view_2d=true)\n",
    "p2 = plot_phantom_map(obj, :Δw ; height=400, width=400, view_2d=true)"
   ],
   "metadata": {},
   "execution_count": null
  },
  {
   "cell_type": "markdown",
   "source": [
    "At the left, you can see the $T_2$ map of the phantom,\n",
    "and at the right, the off-resonance $\\Delta\\omega$.\n",
    "In this example, the fat is the only source of off-resonance\n",
    "(with $\\Delta f =  -220\\,\\mathrm{Hz}$) and you can see\n",
    "it in black in the off-resonance map."
   ],
   "metadata": {}
  },
  {
   "cell_type": "markdown",
   "source": [
    "Then, we will load an EPI sequence, that is well known\n",
    "for being affected by off-resonance. With this sequence,\n",
    "we will be able visualize the effect of the chemical shift."
   ],
   "metadata": {}
  },
  {
   "outputs": [],
   "cell_type": "code",
   "source": [
    "seq_file = joinpath(dirname(pathof(KomaMRI)), \"../examples/5.koma_paper/comparison_accuracy/sequences/EPI/epi_100x100_TE100_FOV230.seq\")\n",
    "seq = read_seq(seq_file)\n",
    "p3 = plot_seq(seq; range=[0 40], slider=true, height=300)"
   ],
   "metadata": {},
   "execution_count": null
  },
  {
   "cell_type": "markdown",
   "source": [
    "If we simulate this sequence we will end up with the following signal."
   ],
   "metadata": {}
  },
  {
   "outputs": [],
   "cell_type": "code",
   "source": [
    "raw = simulate(obj, seq, sys)\n",
    "p4 = plot_signal(raw; range=[98.4 103.4] , height=300)"
   ],
   "metadata": {},
   "execution_count": null
  },
  {
   "cell_type": "markdown",
   "source": [
    "Now, we need to inspect what effect the off-resonance\n",
    "had in the reconstructed image. As you can see,\n",
    "the fat layer is now shifted to a different position 🤯,\n",
    "this is why the effect is called chemical shift!"
   ],
   "metadata": {}
  },
  {
   "outputs": [],
   "cell_type": "code",
   "source": [
    "# Get the acquisition data\n",
    "acq = AcquisitionData(raw)\n",
    "acq.traj[1].circular = false #This is to remove the circular mask\n",
    "\n",
    "# Setting up the reconstruction parameters\n",
    "Nx, Ny = raw.params[\"reconSize\"][1:2]\n",
    "reconParams = Dict{Symbol,Any}(:reco=>\"direct\", :reconSize=>(Nx, Ny))\n",
    "image = reconstruction(acq, reconParams)\n",
    "\n",
    "# Plotting the recon\n",
    "slice_abs = abs.(image[:, :, 1])\n",
    "p5 = plot_image(slice_abs; height=400)"
   ],
   "metadata": {},
   "execution_count": null
  },
  {
   "cell_type": "markdown",
   "source": [
    "---\n",
    "\n",
    "*This notebook was generated using [Literate.jl](https://github.com/fredrikekre/Literate.jl).*"
   ],
   "metadata": {}
  }
 ],
 "nbformat_minor": 3,
 "metadata": {
  "language_info": {
   "file_extension": ".jl",
   "mimetype": "application/julia",
   "name": "julia",
   "version": "1.10.5"
  },
  "kernelspec": {
   "name": "julia-1.10",
   "display_name": "Julia 1.10.5",
   "language": "julia"
  }
 },
 "nbformat": 4
}
