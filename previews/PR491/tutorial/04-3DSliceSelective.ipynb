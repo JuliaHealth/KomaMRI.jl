{
 "cells": [
  {
   "cell_type": "markdown",
   "source": [
    "# Slice-Selective Acquisition of 3D Phantom"
   ],
   "metadata": {}
  },
  {
   "outputs": [],
   "cell_type": "code",
   "source": [
    "using KomaMRI # hide\n",
    "sys = Scanner() # hide"
   ],
   "metadata": {},
   "execution_count": null
  },
  {
   "cell_type": "markdown",
   "source": [
    "While in the previous examples we simulated using hard RF pulses,\n",
    "in this demonstration we will illustrate the principles of slice selection.\n",
    "First, let's import a 3D phantom, in this case a brain slab\n",
    "(thickness of $2\\,\\mathrm{cm}$), by calling the function `brain_phantom3D`."
   ],
   "metadata": {}
  },
  {
   "outputs": [],
   "cell_type": "code",
   "source": [
    "obj = brain_phantom3D()\n",
    "obj.Δw .= 0 # Removes the off-resonance\n",
    "p1 = plot_phantom_map(obj, :T2 ; height=400)"
   ],
   "metadata": {},
   "execution_count": null
  },
  {
   "cell_type": "markdown",
   "source": [
    "Now, we are going to import a sequence which acquires\n",
    "3 slices in the longitudinal axis. Note that the sequence\n",
    "contains three EPIs to acquire 3 slices of the phantom."
   ],
   "metadata": {}
  },
  {
   "outputs": [],
   "cell_type": "code",
   "source": [
    "seq_file = joinpath(dirname(pathof(KomaMRI)), \"../examples/1.sequences/epi_multislice.seq\")\n",
    "seq = read_seq(seq_file)\n",
    "p2 = plot_seq(seq; range=[0,10], height=400)"
   ],
   "metadata": {},
   "execution_count": null
  },
  {
   "cell_type": "markdown",
   "source": [
    "We can take a look to the slice profiles by using the function `simulate_slice_profile`:"
   ],
   "metadata": {}
  },
  {
   "outputs": [],
   "cell_type": "code",
   "source": [
    "z = range(-2., 2., 200) * 1e-2; # -2 to 2 cm\n",
    "rf1, rf2, rf3 = findall(is_RF_on.(seq))\n",
    "M1 = simulate_slice_profile(seq[rf1]; z)\n",
    "M2 = simulate_slice_profile(seq[rf2]; z)\n",
    "M3 = simulate_slice_profile(seq[rf3]; z)\n",
    "\n",
    "using PlotlyJS # hide\n",
    "pa = scatter(x=z*1e2, y=abs.(M1.xy), name=\"Slice 1\") # hide\n",
    "pb = scatter(x=z*1e2, y=abs.(M2.xy), name=\"Slice 2\") # hide\n",
    "pc = scatter(x=z*1e2, y=abs.(M3.xy), name=\"Slice 3\") # hide\n",
    "pd = plot([pa,pb,pc], Layout(xaxis=attr(title=\"z [cm]\"), height=300,margin=attr(t=40,l=0,r=0), title=\"Slice profiles for the slice-selective sequence\")) # hide"
   ],
   "metadata": {},
   "execution_count": null
  },
  {
   "cell_type": "markdown",
   "source": [
    "Now let's simulate the acquisition.\n",
    "Notice the three echoes, one for every slice excitation."
   ],
   "metadata": {}
  },
  {
   "outputs": [],
   "cell_type": "code",
   "source": [
    "raw = simulate(obj, seq, sys; sim_params=Dict{String,Any}(\"Nblocks\"=>20))\n",
    "p3 = plot_signal(raw; slider=false, height=300)"
   ],
   "metadata": {},
   "execution_count": null
  },
  {
   "cell_type": "markdown",
   "source": [
    "Finally, we reconstruct the acquiered images."
   ],
   "metadata": {}
  },
  {
   "outputs": [],
   "cell_type": "code",
   "source": [
    "# Get the acquisition data\n",
    "acq = AcquisitionData(raw)\n",
    "\n",
    "# Setting up the reconstruction parameters and perform reconstruction\n",
    "Nx, Ny = raw.params[\"reconSize\"][1:2]\n",
    "reconParams = Dict{Symbol,Any}(:reco=>\"direct\", :reconSize=>(Nx, Ny))\n",
    "image = reconstruction(acq, reconParams)\n",
    "\n",
    "# Plotting the slices\n",
    "p4 = plot_image(abs.(image[:, :, 1]); height=360, title=\"Slice 1\")\n",
    "p5 = plot_image(abs.(image[:, :, 2]); height=360, title=\"Slice 2\")\n",
    "p6 = plot_image(abs.(image[:, :, 3]); height=360, title=\"Slice 3\")"
   ],
   "metadata": {},
   "execution_count": null
  },
  {
   "cell_type": "markdown",
   "source": [
    "---\n",
    "\n",
    "*This notebook was generated using [Literate.jl](https://github.com/fredrikekre/Literate.jl).*"
   ],
   "metadata": {}
  }
 ],
 "nbformat_minor": 3,
 "metadata": {
  "language_info": {
   "file_extension": ".jl",
   "mimetype": "application/julia",
   "name": "julia",
   "version": "1.10.5"
  },
  "kernelspec": {
   "name": "julia-1.10",
   "display_name": "Julia 1.10.5",
   "language": "julia"
  }
 },
 "nbformat": 4
}
