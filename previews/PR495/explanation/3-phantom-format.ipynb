{
 "cells": [
  {
   "cell_type": "markdown",
   "source": [
    "# Phantom File Format"
   ],
   "metadata": {}
  },
  {
   "cell_type": "markdown",
   "source": [
    "## Introduction"
   ],
   "metadata": {}
  },
  {
   "cell_type": "markdown",
   "source": [
    "While there is already an open and fairly standardised format for MRI sequences\n",
    "such as [Pulseq](https://pulseq.github.io/index.html), this is not the case for digital phantoms.\n",
    "That's why we defined a new ''.phantom'' format, which relies on the [HDF5 standard](https://www.hdfgroup.org/solutions/hdf5/).\n",
    "HDF5 is specially designed to store large amounts of heterogeneous data and to make it readable\n",
    "and writable quickly and easily. In addition, it allows the storage of metadata.\n",
    "For all these reasons, it is the ideal file format for storing phantoms."
   ],
   "metadata": {}
  },
  {
   "cell_type": "markdown",
   "source": [
    "## File Format Specification"
   ],
   "metadata": {}
  },
  {
   "cell_type": "markdown",
   "source": [
    "### Phantom File Tree"
   ],
   "metadata": {}
  },
  {
   "cell_type": "markdown",
   "source": [
    "```"
   ],
   "metadata": {}
  },
  {
   "cell_type": "markdown",
   "source": [
    "### Action types"
   ],
   "metadata": {}
  },
  {
   "cell_type": "markdown",
   "source": [
    "```"
   ],
   "metadata": {}
  },
  {
   "cell_type": "markdown",
   "source": [
    "### TimeSpan types"
   ],
   "metadata": {}
  },
  {
   "cell_type": "markdown",
   "source": [
    "```"
   ],
   "metadata": {}
  },
  {
   "cell_type": "markdown",
   "source": [
    "### SpinSpan types"
   ],
   "metadata": {}
  },
  {
   "cell_type": "markdown",
   "source": [
    "```"
   ],
   "metadata": {}
  },
  {
   "cell_type": "markdown",
   "source": [
    "---\n",
    "\n",
    "*This notebook was generated using [Literate.jl](https://github.com/fredrikekre/Literate.jl).*"
   ],
   "metadata": {}
  }
 ],
 "nbformat_minor": 3,
 "metadata": {
  "language_info": {
   "file_extension": ".jl",
   "mimetype": "application/julia",
   "name": "julia",
   "version": "1.11.0"
  },
  "kernelspec": {
   "name": "julia-1.11",
   "display_name": "Julia 1.11.0",
   "language": "julia"
  }
 },
 "nbformat": 4
}
