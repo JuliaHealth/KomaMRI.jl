{
 "cells": [
  {
   "cell_type": "markdown",
   "source": [
    "# Arrhythmic Cardiac Cine MRI"
   ],
   "metadata": {}
  },
  {
   "outputs": [],
   "cell_type": "code",
   "source": [
    "using KomaMRI, PlotlyJS, Plots, Printf # hide\n",
    "\n",
    "include(joinpath(dirname(pathof(KomaMRI)), \"../examples/3.tutorials/utils/RRVariability.jl\")) # hide\n",
    "\n",
    "sys = Scanner() # hide"
   ],
   "metadata": {},
   "execution_count": null
  },
  {
   "cell_type": "markdown",
   "source": [
    "This tutorial shows how to simulate cardiac cine MRI using Koma.\n",
    "including cases with variable RR intervals (i.e., arrhythmias). You'll learn how to:"
   ],
   "metadata": {}
  },
  {
   "cell_type": "markdown",
   "source": [
    "1. Simulate a clean cine acquisition with constant RR intervals.\n",
    "2. Introduce arrhythmias (variable RR) in the cardiac phantom.\n",
    "3. Observe how this desynchronization degrades image quality.\n",
    "4. Fix the acquisition by synchronizing the sequence with the phantom's RR variability (manual triggering)."
   ],
   "metadata": {}
  },
  {
   "cell_type": "markdown",
   "source": [
    "### 1. Constant RR for Phantom and Sequence\n",
    "\n",
    "We will begin by simulating a cardiac cine on a myocardial phantom with a constant RR interval.\n",
    "Let's call the `heart_phantom` function to create a ring-shaped phantom filled with blood, which resembles the left ventricle:"
   ],
   "metadata": {}
  },
  {
   "outputs": [],
   "cell_type": "code",
   "source": [
    "obj = heart_phantom()"
   ],
   "metadata": {},
   "execution_count": null
  },
  {
   "cell_type": "markdown",
   "source": [
    "By default, this phantom exhibits periodic contraction and rotation, with a period of 1 second:"
   ],
   "metadata": {}
  },
  {
   "outputs": [],
   "cell_type": "code",
   "source": [
    "p1 = plot_phantom_map(obj, :T1 ; height=450, time_samples=21) # hide"
   ],
   "metadata": {},
   "execution_count": null
  },
  {
   "cell_type": "markdown",
   "source": [
    "Now, we will create a bSSFP cine sequence with the following parameters:"
   ],
   "metadata": {}
  },
  {
   "outputs": [],
   "cell_type": "code",
   "source": [
    "RRs          = [1.0]       # [s] constant RR interval\n",
    "N_matrix     = 50          # image size = N x N\n",
    "N_phases     = 40          # Number of cardiac phases\n",
    "FOV          = 0.11        # [m]\n",
    "TR           = 20e-3       # [s]\n",
    "flip_angle   = 10          # [º]\n",
    "adc_duration = 0.2e-3"
   ],
   "metadata": {},
   "execution_count": null
  },
  {
   "outputs": [],
   "cell_type": "code",
   "source": [
    "seq = bSSFP_cine(\n",
    "    FOV, N_matrix, TR, flip_angle, RRs, N_phases, sys;\n",
    "    N_dummy_cycles = 40, adc_duration = adc_duration,\n",
    ")\n",
    "\n",
    "# Simulation  # hide\n",
    "raw1 = simulate(obj, seq, sys) # hide\n",
    "# Reconstruction # hide\n",
    "frames1 = reconstruct_cine(raw1, seq, N_matrix, N_phases) # hide"
   ],
   "metadata": {},
   "execution_count": null
  },
  {
   "cell_type": "markdown",
   "source": [
    "The simulation and subsequent reconstruction produces the following cine frames,\n",
    "which look clean and temporally coherent:"
   ],
   "metadata": {}
  },
  {
   "outputs": [],
   "cell_type": "code",
   "source": [
    "fps = 25 # hide\n",
    "p2 = plot_cine(frames1, fps; Δt=TR, filename=\"../assets/tut-7-frames1.gif\"); # hide\n",
    "display(p2)"
   ],
   "metadata": {},
   "execution_count": null
  },
  {
   "cell_type": "markdown",
   "source": [
    "### 2. Arrhythmic Phantom: Variable RR, Constant Sequence\n",
    "\n",
    "Now, we will introduce arrhythmias in the phantom by modifying its RR intervals.\n",
    "However, we will keep the sequence with a constant RR interval of 1 second:"
   ],
   "metadata": {}
  },
  {
   "outputs": [],
   "cell_type": "code",
   "source": [
    "RRs = [900, 1100, 1000, 1000, 1000, 800] .* 1e-3\n",
    "\n",
    "\n",
    "# Apply the new RRs to the phantom (both contraction and rotation):\n",
    "obj.motion.motions[1].time.periods = RRs\n",
    "obj.motion.motions[2].time.periods = RRs"
   ],
   "metadata": {},
   "execution_count": null
  },
  {
   "cell_type": "markdown",
   "source": [
    "Since the sequence still assumes a constant RR, it becomes unsynchronized with the phantom.\n",
    "This produces artifacts and temporal inconsistencies in the cine."
   ],
   "metadata": {}
  },
  {
   "outputs": [],
   "cell_type": "code",
   "source": [
    "# Simulation  # hide\n",
    "raw2 = simulate(obj, seq, sys) # hide\n",
    "# Reconstruction # hide\n",
    "frames2 = reconstruct_cine(raw2, seq, N_matrix, N_phases) # hide\n",
    "\n",
    "plot_cine(frames2, fps; Δt=TR, filename=\"tut-7-frames2.gif\")"
   ],
   "metadata": {},
   "execution_count": null
  },
  {
   "cell_type": "markdown",
   "source": [
    "### 3. Prospective Triggering: Resynchronized Acquisition\n",
    "To correct this, we synchronize the sequence by providing it the same RR variability as the phantom:"
   ],
   "metadata": {}
  },
  {
   "outputs": [],
   "cell_type": "code",
   "source": [
    "seq = bSSFP_cine(\n",
    "    FOV, N_matrix, TR, flip_angle, RRs, N_phases, sys;\n",
    "    N_dummy_cycles = 40, adc_duration = adc_duration,\n",
    ")"
   ],
   "metadata": {},
   "execution_count": null
  },
  {
   "cell_type": "markdown",
   "source": [
    "This manually mimics cardiac triggering. The resulting cine is\n",
    "once again correctly aligned, despite the underlying arrhythmia."
   ],
   "metadata": {}
  },
  {
   "outputs": [],
   "cell_type": "code",
   "source": [
    "# Simulation  # hide\n",
    "raw3 = simulate(obj, seq, sys) # hide\n",
    "# Reconstruction # hide\n",
    "frames3 = reconstruct_cine(raw3, seq, N_matrix, N_phases) # hide\n",
    "\n",
    "plot_cine(frames3, fps; Δt=TR, filename=\"tut-7-frames3.gif\")"
   ],
   "metadata": {},
   "execution_count": null
  },
  {
   "cell_type": "markdown",
   "source": [
    "---\n",
    "\n",
    "*This notebook was generated using [Literate.jl](https://github.com/fredrikekre/Literate.jl).*"
   ],
   "metadata": {}
  }
 ],
 "nbformat_minor": 3,
 "metadata": {
  "language_info": {
   "file_extension": ".jl",
   "mimetype": "application/julia",
   "name": "julia",
   "version": "1.11.5"
  },
  "kernelspec": {
   "name": "julia-1.11",
   "display_name": "Julia 1.11.5",
   "language": "julia"
  }
 },
 "nbformat": 4
}
