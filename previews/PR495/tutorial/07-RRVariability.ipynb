{
 "cells": [
  {
   "cell_type": "markdown",
   "source": [
    "# RR Variability in Cardiac Cine"
   ],
   "metadata": {}
  },
  {
   "outputs": [],
   "cell_type": "code",
   "source": [
    "using KomaMRI, PlotlyJS, Plots # hide\n",
    "\n",
    "include(joinpath(dirname(pathof(KomaMRI)), \"../examples/3.tutorials/utils/bSSFP.jl\"))\n",
    "include(joinpath(dirname(pathof(KomaMRI)), \"../examples/3.tutorials/utils/plot_cine.jl\"))\n",
    "\n",
    "sys = Scanner() # hide"
   ],
   "metadata": {},
   "execution_count": null
  },
  {
   "cell_type": "markdown",
   "source": [
    "In this tutorial, we will explore the effects of RR interval variability during a cardiac cine MRI acquisition,\n",
    "and how these effects can be mitigated using proper prospective gating."
   ],
   "metadata": {}
  },
  {
   "cell_type": "markdown",
   "source": [
    "We will begin by simulating a cardiac cine on a myocardial phantom with a constant RR interval.\n",
    "Let's call the `heart_phantom` function to create a ring-shaped phantom filled with blood, which resembles the left ventricle:"
   ],
   "metadata": {}
  },
  {
   "outputs": [],
   "cell_type": "code",
   "source": [
    "obj = heart_phantom()"
   ],
   "metadata": {},
   "execution_count": null
  },
  {
   "cell_type": "markdown",
   "source": [
    "By default, this phantom exhibits periodic contraction and rotation, with a period of 1 second:"
   ],
   "metadata": {}
  },
  {
   "outputs": [],
   "cell_type": "code",
   "source": [
    "p1 = plot_phantom_map(obj, :T1 ; height=450, time_samples=21) # hide"
   ],
   "metadata": {},
   "execution_count": null
  },
  {
   "cell_type": "markdown",
   "source": [
    "Now, we will create a bSSFP cine sequence with the following parameters:"
   ],
   "metadata": {}
  },
  {
   "outputs": [],
   "cell_type": "code",
   "source": [
    "RRs          = [1.0]       # [s] constant RR interval\n",
    "N_matrix     = 40          # image size = N x N\n",
    "N_phases     = 40          # Number of cardiac phases\n",
    "FOV          = 0.11        # [m]\n",
    "TR           = 20e-3       # [s]\n",
    "flip_angle   = 10          # [º]\n",
    "adc_duration = 0.2e-3\n",
    "\n",
    "seq = bSSFP_cine(\n",
    "    FOV, N_matrix, TR, flip_angle, RRs, N_phases, sys;\n",
    "    N_dummy_cycles = 40, adc_duration = adc_duration,\n",
    ")\n",
    "\n",
    "# Simulation\n",
    "raw1 = simulate(obj, seq, sys) # hide\n",
    "\n",
    "# Reconstruction\n",
    "frames = []\n",
    "@info \"Running reconstruction\"\n",
    "@time begin\n",
    "    recParams = Dict{Symbol,Any}(:reco=>\"direct\")\n",
    "    Nx = Ny = N_matrix\n",
    "    recParams[:reconSize] = (Nx, Ny)\n",
    "    recParams[:densityWeighting] = false\n",
    "\n",
    "    acqData = AcquisitionData(raw1)\n",
    "\n",
    "    _, ktraj = get_kspace(seq)\n",
    "\n",
    "    for i in 1:N_phases\n",
    "        acqAux = copy(acqData)\n",
    "        range = reduce(vcat,[j*(N_matrix*N_phases).+((i-1)*N_matrix.+(1:N_matrix)) for j in 0:N_matrix-1])\n",
    "\n",
    "        # Kdata\n",
    "        acqAux.kdata[1] = reshape(acqAux.kdata[1][range],(N_matrix^2,1))\n",
    "\n",
    "        # Traj\n",
    "        acqAux.traj[1].circular = false\n",
    "\n",
    "        acqAux.traj[1].nodes = transpose(ktraj[:, 1:2])[:,range]\n",
    "        acqAux.traj[1].nodes = acqAux.traj[1].nodes[1:2,:] ./ maximum(2*abs.(acqAux.traj[1].nodes[:]))\n",
    "\n",
    "        acqAux.traj[1].numProfiles = N_matrix\n",
    "        acqAux.traj[1].times = acqAux.traj[1].times[range]\n",
    "\n",
    "        # subsampleIndices\n",
    "        acqAux.subsampleIndices[1] = acqAux.subsampleIndices[1][1:N_matrix^2]\n",
    "\n",
    "        # Reconstruction\n",
    "        aux = @timed reconstruction(acqAux, recParams)\n",
    "        image  = reshape(aux.value.data,Nx,Ny,:)\n",
    "        image_aux = abs.(image[:,:,1])\n",
    "\n",
    "        push!(frames,image_aux)\n",
    "    end\n",
    "end\n",
    "\n",
    "fps = 25 # hide\n",
    "p2 = plot_cine(frames, fps; Δt=TR, filename=\"../assets/tut-7-frames.gif\") # hide\n",
    "\n",
    "# RRs = [1.0, 0.8, 1.0, 1.0] # hide\n",
    "# obj.motion.motions[1].time.periods = RRs # hide\n",
    "# obj.motion.motions[2].time.periods = RRs # hide"
   ],
   "metadata": {},
   "execution_count": null
  },
  {
   "cell_type": "markdown",
   "source": [
    "---\n",
    "\n",
    "*This notebook was generated using [Literate.jl](https://github.com/fredrikekre/Literate.jl).*"
   ],
   "metadata": {}
  }
 ],
 "nbformat_minor": 3,
 "metadata": {
  "language_info": {
   "file_extension": ".jl",
   "mimetype": "application/julia",
   "name": "julia",
   "version": "1.11.5"
  },
  "kernelspec": {
   "name": "julia-1.11",
   "display_name": "Julia 1.11.5",
   "language": "julia"
  }
 },
 "nbformat": 4
}
