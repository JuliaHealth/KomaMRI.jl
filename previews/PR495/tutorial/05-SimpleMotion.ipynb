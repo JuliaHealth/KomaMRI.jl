{
 "cells": [
  {
   "cell_type": "markdown",
   "source": [
    "# Patient's Motion During Acquisition"
   ],
   "metadata": {}
  },
  {
   "outputs": [],
   "cell_type": "code",
   "source": [
    "using KomaMRI # hide\n",
    "using PlotlyJS # hide\n",
    "sys = Scanner() # hide"
   ],
   "metadata": {},
   "execution_count": null
  },
  {
   "cell_type": "markdown",
   "source": [
    "It can also be interesting to see the effect of the patient's motion during an MRI scan.\n",
    "For this, Koma provides the ability to add `motion <: AbstractMotion` to the phantom.\n",
    "In this tutorial, we will show how to add a `Translate` motion to a 2D brain phantom."
   ],
   "metadata": {}
  },
  {
   "cell_type": "markdown",
   "source": [
    "First, let's load the 2D brain phantom used in the previous tutorials:"
   ],
   "metadata": {}
  },
  {
   "outputs": [],
   "cell_type": "code",
   "source": [
    "obj = brain_phantom2D()\n",
    "obj.Δw .= 0 # hide"
   ],
   "metadata": {},
   "execution_count": null
  },
  {
   "cell_type": "markdown",
   "source": [
    "### Head Translation\n",
    "\n",
    "In this example, we will add a `Translate` of 2 cm in x, with duration of 200 ms (v = 0.1 m/s):"
   ],
   "metadata": {}
  },
  {
   "outputs": [],
   "cell_type": "code",
   "source": [
    "obj.motion = MotionList(\n",
    "    Translate(2e-2, 0.0, 0.0, TimeRange(t_start=0.0, t_end=200e-3))\n",
    ")\n",
    "p1 = plot_phantom_map(obj, :T2 ; height=450, time_samples=4) # hide\n",
    "\n",
    "\n",
    "\n",
    "# Read Sequence # hide\n",
    "seq_file1 = joinpath(dirname(pathof(KomaMRI)), \"../examples/5.koma_paper/comparison_accuracy/sequences/EPI/epi_100x100_TE100_FOV230.seq\") # hide\n",
    "seq1 = read_seq(seq_file1) # hide\n",
    "\n",
    "# Simulate # hide\n",
    "raw1 = simulate(obj, seq1, sys) # hide\n",
    "\n",
    "# Recon # hide\n",
    "acq1 = AcquisitionData(raw1) # hide\n",
    "acq1.traj[1].circular = false # hide\n",
    "Nx, Ny = raw1.params[\"reconSize\"][1:2] # hide\n",
    "reconParams = Dict{Symbol,Any}(:reco=>\"direct\", :reconSize=>(Nx, Ny)) # hide\n",
    "image1 = reconstruction(acq1, reconParams) # hide"
   ],
   "metadata": {},
   "execution_count": null
  },
  {
   "cell_type": "markdown",
   "source": [
    "If we simulate an EPI sequence with acquisition duration (183.989 ms) comparable with the motion's duration (200 ms),\n",
    "we will observe motion-induced artifacts in the reconstructed image."
   ],
   "metadata": {}
  },
  {
   "outputs": [],
   "cell_type": "code",
   "source": [
    "# Plotting the recon # hide\n",
    "p2 = plot_image(abs.(image1[:, :, 1]); height=400) # hide"
   ],
   "metadata": {},
   "execution_count": null
  },
  {
   "cell_type": "markdown",
   "source": [
    "The severity of the artifacts can vary depending on the acquisition duration and $k$-space trajectory."
   ],
   "metadata": {}
  },
  {
   "cell_type": "markdown",
   "source": [
    "### Motion-Corrected Reconstruction\n",
    "\n",
    "To correct for the motion-induced artifacts we can perform a motion-corrected reconstruction.\n",
    "This can be achieved by multiplying each sample of the acquired signal  $S(t)$\n",
    "by a phase shift $\\Delta\\phi_{\\mathrm{corr}}$ proportional to the displacement $\\boldsymbol{u}(t)$\n",
    "[[Godenschweger, 2016]](https://www.ncbi.nlm.nih.gov/pmc/articles/PMC4930872/):"
   ],
   "metadata": {}
  },
  {
   "cell_type": "markdown",
   "source": [
    "$$\n",
    "S_{\\mathrm{MC}}\\left(t\\right)=S\\left(t\\right)\\cdot\\mathrm{e}^{\\mathrm{i}\\Delta\\phi_{\\mathrm{corr}}}=S\\left(t\\right)\\cdot\\mathrm{e}^{\\mathrm{i}2\\pi\\boldsymbol{k}\\left(t\\right)\\cdot\\boldsymbol{u}\\left(t\\right)}\n",
    "$$"
   ],
   "metadata": {}
  },
  {
   "cell_type": "markdown",
   "source": [
    "In practice, we would need to estimate or measure the motion before performing a motion-corrected reconstruction, but for this example, we will directly use the displacement functions $\\boldsymbol{u}(\\boldsymbol{x}, t)$ defined by `obj.motion::MotionList`.\n",
    "Since translations are rigid motions ($\\boldsymbol{u}(\\boldsymbol{x}, t)=\\boldsymbol{u}(t)$ no position dependence), we can obtain the required displacements by calculating $\\boldsymbol{u}(\\boldsymbol{x}=\\boldsymbol{0},\\ t=t_{\\mathrm{adc}})$."
   ],
   "metadata": {}
  },
  {
   "outputs": [],
   "cell_type": "code",
   "source": [
    "sample_times = get_adc_sampling_times(seq1)\n",
    "displacements = hcat(get_spin_coords(obj.motion, [0.0], [0.0], [0.0], sample_times)...)\n",
    "\n",
    "p3 = plot( # hide\n",
    "    sample_times, # hide\n",
    "    displacements .* 1e2, # hide\n",
    "    Layout( # hide\n",
    "        title = \"Head displacement in x, y and z\", # hide\n",
    "        xaxis_title = \"time (s)\", # hide\n",
    "        yaxis_title = \"Displacement (cm)\" # hide\n",
    "    )) # hide\n",
    "restyle!(p3,1:3, name=[\"ux(t)\", \"uy(t)\", \"uz(t)\"]) # hide"
   ],
   "metadata": {},
   "execution_count": null
  },
  {
   "cell_type": "markdown",
   "source": [
    "We can now get the necessary phase shift for each sample:"
   ],
   "metadata": {}
  },
  {
   "outputs": [],
   "cell_type": "code",
   "source": [
    "_, kspace = get_kspace(seq1)\n",
    "ΔΦ = 2π*sum(kspace .* displacements, dims=2)"
   ],
   "metadata": {},
   "execution_count": null
  },
  {
   "cell_type": "markdown",
   "source": [
    "And apply it to the acquired signal to correct its phase:"
   ],
   "metadata": {}
  },
  {
   "outputs": [],
   "cell_type": "code",
   "source": [
    "acq1.kdata[1] .*= exp.(im*ΔΦ)\n",
    "\n",
    "image2 = reconstruction(acq1, reconParams) # hide\n",
    "\n",
    "p4 = plot_image(abs.(image2[:, :, 1]); height=400) # hide"
   ],
   "metadata": {},
   "execution_count": null
  },
  {
   "cell_type": "markdown",
   "source": [
    "Finally, we compare the original image ▶️ and the motion-corrected reconstruction ⏸️:"
   ],
   "metadata": {}
  },
  {
   "cell_type": "markdown",
   "source": [
    "---\n",
    "\n",
    "*This notebook was generated using [Literate.jl](https://github.com/fredrikekre/Literate.jl).*"
   ],
   "metadata": {}
  }
 ],
 "nbformat_minor": 3,
 "metadata": {
  "language_info": {
   "file_extension": ".jl",
   "mimetype": "application/julia",
   "name": "julia",
   "version": "1.11.0"
  },
  "kernelspec": {
   "name": "julia-1.11",
   "display_name": "Julia 1.11.0",
   "language": "julia"
  }
 },
 "nbformat": 4
}
