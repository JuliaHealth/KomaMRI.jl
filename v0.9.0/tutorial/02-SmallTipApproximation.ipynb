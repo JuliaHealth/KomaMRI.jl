{
 "cells": [
  {
   "cell_type": "markdown",
   "source": [
    "# Small Tip Angle Approximation"
   ],
   "metadata": {}
  },
  {
   "cell_type": "markdown",
   "source": [
    "> Based on the results in page 41 of the book \"Handbook of MRI Pulse Sequences\" by Bernstein et al."
   ],
   "metadata": {}
  },
  {
   "outputs": [],
   "cell_type": "code",
   "source": [
    "using KomaMRI # hide\n",
    "sys = Scanner() # hide\n",
    "sys.Smax = 50 # hide"
   ],
   "metadata": {},
   "execution_count": null
  },
  {
   "cell_type": "markdown",
   "source": [
    "In this example, we will showcase a common approximation in MRI, the small tip angle approximation.\n",
    "For this, we will simulate a slice profile for spins with positions $z\\in[-2,\\,2]\\,\\mathrm{cm}$\n",
    "and with a gradient $G_{z}$ so their frequencies are mapped to $f\\in[-5,\\,5]\\,\\mathrm{kHz}$.\n",
    "To start, we define an RF pulse with a flip angle of 30 deg and pulse duration of $T_{\\mathrm{rf}}=3.2\\,\\mathrm{ms}$."
   ],
   "metadata": {}
  },
  {
   "outputs": [],
   "cell_type": "code",
   "source": [
    "B1 = 4.92e-6\n",
    "Trf = 3.2e-3\n",
    "zmax = 2e-2\n",
    "fmax = 5e3\n",
    "z = range(-zmax, zmax, 400)\n",
    "Gz = fmax / (γ * zmax)\n",
    "f = γ * Gz * z # hide"
   ],
   "metadata": {},
   "execution_count": null
  },
  {
   "cell_type": "markdown",
   "source": [
    "The designed RF pulse is presented in the figure below,\n",
    "where the additional gradient refocuses the spins' phase after the excitation."
   ],
   "metadata": {}
  },
  {
   "outputs": [],
   "cell_type": "code",
   "source": [
    "seq = PulseDesigner.RF_sinc(B1, Trf, sys; G=[0;0;Gz], TBP=8)\n",
    "p2 = plot_seq(seq; max_rf_samples=Inf, slider=false)"
   ],
   "metadata": {},
   "execution_count": null
  },
  {
   "cell_type": "markdown",
   "source": [
    "Now we will perform the simulation using the function `simulate_slice_profile`.\n",
    "Note that we modified `Δt_rf` in `sim_params` to match the resolution of the waveform."
   ],
   "metadata": {}
  },
  {
   "outputs": [],
   "cell_type": "code",
   "source": [
    "sim_params = Dict{String, Any}(\"Δt_rf\" => Trf / length(seq.RF.A[1]))\n",
    "M = simulate_slice_profile(seq; z, sim_params)\n",
    "\n",
    "using PlotlyJS # hide\n",
    "s1 = scatter(x=f, y=real.(M.xy), name=\"Mx\") # hide\n",
    "s2 = scatter(x=f, y=imag.(M.xy), name=\"My\") # hide\n",
    "dat = seq.RF.A[1] # hide\n",
    "N = length(dat) # hide\n",
    "dat_pad = [zeros(floor(Int64,N)); dat; zeros(floor(Int64,N))] # hide\n",
    "N_pad = length(dat_pad) # hide\n",
    "U = 1 / (Trf) * N / N_pad #hide\n",
    "u = range(0, (N_pad - 1) * U; step=U) # hide\n",
    "u = u .- maximum(u) / 2 .- U/2 # hide\n",
    "FT_dat_pad = abs.(KomaMRI.fftc(dat_pad; dims=1)) # hide\n",
    "scale_factor = maximum(abs.(M.xy)) / maximum(FT_dat_pad) # hide\n",
    "s3 = scatter(x=u, y=FT_dat_pad*scale_factor, name=\"|FT(B₁(t))|\", line=attr(dash=\"dash\")) # hide\n",
    "pb = plot([s1,s2,s3], Layout(title=\"30 deg SINC pulse (TBP=8, Hamming)\", xaxis_title=\"Frequency [Hz]\", xaxis_range=[-fmax,fmax])) # hide"
   ],
   "metadata": {},
   "execution_count": null
  },
  {
   "cell_type": "markdown",
   "source": [
    "As you can see, for a flip angle of 30 deg, the slice profile is very close to\n",
    "the small tip angle approximation (the Fourier transform of $B_{1}(t)$)."
   ],
   "metadata": {}
  },
  {
   "cell_type": "markdown",
   "source": [
    "But what will happen if we use a flip angle of 120 deg instead?"
   ],
   "metadata": {}
  },
  {
   "outputs": [],
   "cell_type": "code",
   "source": [
    "α_desired = 120 + 0im               # The multiplication of a complex number scales the RF pulse of a Sequence\n",
    "α = get_flip_angles(seq)[1] # Previous FA approx 30 deg\n",
    "seq = (α_desired / α) * seq         # Scaling the pulse to have a flip angle of 120\n",
    "M = simulate_slice_profile(seq; z, sim_params)\n",
    "\n",
    "s1 = scatter(x=f, y=abs.(M.xy), name=\"|Mxy|\") # hide\n",
    "dat = seq.RF.A[1] # hide\n",
    "N = length(dat) # hide\n",
    "dat_pad = [zeros(floor(Int64,N)); dat; zeros(floor(Int64,N))] # hide\n",
    "N_pad = length(dat_pad) # hide\n",
    "U = 1 / (Trf) * N / N_pad #hide\n",
    "u = range(0, (N_pad - 1) * U; step=U) # hide\n",
    "u = u .- maximum(u) / 2 .- U/2 # hide\n",
    "FT_dat_pad = abs.(KomaMRI.fftc(dat_pad; dims=1)) # hide\n",
    "scale_factor = maximum(abs.(M.xy)) / maximum(FT_dat_pad) # hide\n",
    "s2 = scatter(x=u, y=FT_dat_pad*scale_factor, name=\"|FT(B₁(t))|\", line=attr(dash=\"dash\")) # hide\n",
    "pa = plot([s1,s2], Layout(title=\"120 deg SINC pulse (TBP=8, Hamming)\", xaxis_title=\"Frequency [Hz]\", xaxis_range=[-fmax,fmax])) # hide"
   ],
   "metadata": {},
   "execution_count": null
  },
  {
   "cell_type": "markdown",
   "source": [
    "For this case, the small tip angle approximation breaks 😢, thus, the reason for its name!"
   ],
   "metadata": {}
  },
  {
   "cell_type": "markdown",
   "source": [
    "This basic sinc pulse is not designed to be $B_{1}$-insensitive.  Some adiabatic RF pulses have been proposed to achieve this.\n",
    "Watch out for a future example showing these adiabatic RF pulses 👀."
   ],
   "metadata": {}
  },
  {
   "cell_type": "markdown",
   "source": [
    "---\n",
    "\n",
    "*This notebook was generated using [Literate.jl](https://github.com/fredrikekre/Literate.jl).*"
   ],
   "metadata": {}
  }
 ],
 "nbformat_minor": 3,
 "metadata": {
  "language_info": {
   "file_extension": ".jl",
   "mimetype": "application/julia",
   "name": "julia",
   "version": "1.10.5"
  },
  "kernelspec": {
   "name": "julia-1.10",
   "display_name": "Julia 1.10.5",
   "language": "julia"
  }
 },
 "nbformat": 4
}
