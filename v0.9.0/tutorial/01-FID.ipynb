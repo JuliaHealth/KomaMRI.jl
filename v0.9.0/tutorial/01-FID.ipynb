{
 "cells": [
  {
   "cell_type": "markdown",
   "source": [
    "# Free Induction Decay"
   ],
   "metadata": {}
  },
  {
   "cell_type": "markdown",
   "source": [
    "First of all, let's use the KomaMRI package and define the default scanner."
   ],
   "metadata": {}
  },
  {
   "outputs": [],
   "cell_type": "code",
   "source": [
    "using KomaMRI\n",
    "sys = Scanner() # default hardware definition"
   ],
   "metadata": {},
   "execution_count": null
  },
  {
   "cell_type": "markdown",
   "source": [
    "The free induction decay is the simplest observable NMR signal.\n",
    "This signal is the one that follows a single tipping RF pulse.\n",
    "To recreate this experiment, we will need to define a `Sequence` with 2 blocks."
   ],
   "metadata": {}
  },
  {
   "cell_type": "markdown",
   "source": [
    "The first block containing an RF pulse with a flip-angle of 90 deg,"
   ],
   "metadata": {}
  },
  {
   "outputs": [],
   "cell_type": "code",
   "source": [
    "ampRF = 2e-6                        # 2 uT RF amplitude\n",
    "durRF = π / 2 / (2π * γ * ampRF)    # required duration for a 90 deg RF pulse\n",
    "exc = RF(ampRF,durRF)"
   ],
   "metadata": {},
   "execution_count": null
  },
  {
   "cell_type": "markdown",
   "source": [
    "and the second block containing the ADC."
   ],
   "metadata": {}
  },
  {
   "outputs": [],
   "cell_type": "code",
   "source": [
    "nADC = 8192         # number of acquisition samples\n",
    "durADC = 250e-3     # duration of the acquisition\n",
    "delay =  1e-3       # small delay\n",
    "acq = ADC(nADC, durADC, delay)"
   ],
   "metadata": {},
   "execution_count": null
  },
  {
   "cell_type": "markdown",
   "source": [
    "Finally, we concatenate the sequence blocks to create\n",
    "the final sequence."
   ],
   "metadata": {}
  },
  {
   "outputs": [],
   "cell_type": "code",
   "source": [
    "seq = Sequence()  # empty sequence\n",
    "seq += exc        # adding RF-only block\n",
    "seq += acq        # adding ADC-only block\n",
    "p1 = plot_seq(seq; slider=false, height=300)"
   ],
   "metadata": {},
   "execution_count": null
  },
  {
   "cell_type": "markdown",
   "source": [
    "Now, we will define a `Phantom` with a single spin at $x=0$\n",
    "with $T_1=1000\\,\\mathrm{ms}$ and $T_2=100\\,\\mathrm{ms}$."
   ],
   "metadata": {}
  },
  {
   "outputs": [],
   "cell_type": "code",
   "source": [
    "obj = Phantom{Float64}(x=[0.], T1=[1000e-3], T2=[100e-3])"
   ],
   "metadata": {},
   "execution_count": null
  },
  {
   "cell_type": "markdown",
   "source": [
    "Finally, to simulate we will need to use the function `simulate`."
   ],
   "metadata": {}
  },
  {
   "outputs": [],
   "cell_type": "code",
   "source": [
    "raw = simulate(obj, seq, sys)"
   ],
   "metadata": {},
   "execution_count": null
  },
  {
   "cell_type": "markdown",
   "source": [
    "To plot the results we will need to use the `plot_signal` function"
   ],
   "metadata": {}
  },
  {
   "outputs": [],
   "cell_type": "code",
   "source": [
    "p2 = plot_signal(raw; slider=false, height=300)"
   ],
   "metadata": {},
   "execution_count": null
  },
  {
   "cell_type": "markdown",
   "source": [
    "Nice!, we can see that $S(t)$ follows an\n",
    "exponential decay $\\exp(-t/T_2)$ as expected."
   ],
   "metadata": {}
  },
  {
   "cell_type": "markdown",
   "source": [
    "For a little bit of spiciness, let's add **off-resonance** to our example.\n",
    "We will use $\\Delta f=-100\\,\\mathrm{Hz}$.\n",
    "For this, we will need to add a definition for `Δw` in our `Phantom`"
   ],
   "metadata": {}
  },
  {
   "outputs": [],
   "cell_type": "code",
   "source": [
    "obj = Phantom{Float64}(x=[0.], T1=[1000e-3], T2=[100e-3], Δw=[-2π*100])# and simulate again.\n",
    "\n",
    "raw = simulate(obj, seq, sys)\n",
    "p3 = plot_signal(raw; slider=false, height=300)"
   ],
   "metadata": {},
   "execution_count": null
  },
  {
   "cell_type": "markdown",
   "source": [
    "The signal now follows an exponential of the\n",
    "form $\\exp(-t/T_2)\\cdot\\exp(-i\\Delta\\omega t)$.\n",
    "The addition of $\\exp(-i\\Delta\\omega t)$ to the signal\n",
    "will generate a shift in the image space (Fourier shifting property).\n",
    "This effect will be better visualized and explained in later examples."
   ],
   "metadata": {}
  },
  {
   "cell_type": "markdown",
   "source": [
    "---\n",
    "\n",
    "*This notebook was generated using [Literate.jl](https://github.com/fredrikekre/Literate.jl).*"
   ],
   "metadata": {}
  }
 ],
 "nbformat_minor": 3,
 "metadata": {
  "language_info": {
   "file_extension": ".jl",
   "mimetype": "application/julia",
   "name": "julia",
   "version": "1.10.5"
  },
  "kernelspec": {
   "name": "julia-1.10",
   "display_name": "Julia 1.10.5",
   "language": "julia"
  }
 },
 "nbformat": 4
}
