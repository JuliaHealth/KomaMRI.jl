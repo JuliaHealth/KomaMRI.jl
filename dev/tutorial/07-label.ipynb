{
 "cells": [
  {
   "cell_type": "markdown",
   "source": [
    "# Using Labels to reconstruct multi-slice / multi-contrast sequences\n",
    "\n",
    "This is generally done in pulseq / pypulseq. In that case, the sequence structure automatically contains the labels increment and set extension.\n",
    "\n",
    "Here we will show how to modify a sequence in KomaMRI to add the extension"
   ],
   "metadata": {}
  },
  {
   "outputs": [],
   "cell_type": "code",
   "source": [
    "using KomaMRI, PlotlyJS, Suppressor # hide\n",
    "sys = Scanner() # hide\n",
    "obj = brain_phantom3D()\n",
    "obj.Δw .= 0; # Removes the off-resonance"
   ],
   "metadata": {},
   "execution_count": null
  },
  {
   "cell_type": "markdown",
   "source": [
    "## How to add label to a sequence\n",
    "Let's add the label to increment the slice for each seq_EPI block. We will add that to the first block of the sequence"
   ],
   "metadata": {}
  },
  {
   "outputs": [],
   "cell_type": "code",
   "source": [
    "seq_EPI = PulseDesigner.EPI_example()\n",
    "seq = deepcopy(seq_EPI);"
   ],
   "metadata": {},
   "execution_count": null
  },
  {
   "cell_type": "markdown",
   "source": [
    "We can create 2 different types of label \"Increment\" and \"Set\" with `LabelInc` and `LabelSet`"
   ],
   "metadata": {}
  },
  {
   "outputs": [],
   "cell_type": "code",
   "source": [
    "lSlcInc = LabelInc(1,\"SLC\");"
   ],
   "metadata": {},
   "execution_count": null
  },
  {
   "cell_type": "markdown",
   "source": [
    "Let's change the extension field of the first block of seq_EPI in order to add an increment to the SLC label"
   ],
   "metadata": {}
  },
  {
   "outputs": [],
   "cell_type": "code",
   "source": [
    "seq_EPI.EXT[1] = [lSlcInc];"
   ],
   "metadata": {},
   "execution_count": null
  },
  {
   "cell_type": "markdown",
   "source": [
    "Now let's merge 3 seq_EPI. We now have 1 EPI sequence without EXTENSION, then we have an increment of the SLC label, and another one at the beginning of the last seq_EPI"
   ],
   "metadata": {}
  },
  {
   "outputs": [],
   "cell_type": "code",
   "source": [
    "seq = seq + seq_EPI + seq_EPI\n",
    "plot_seq(seq);"
   ],
   "metadata": {},
   "execution_count": null
  },
  {
   "cell_type": "markdown",
   "source": [
    "We can extract the label value with the following function"
   ],
   "metadata": {}
  },
  {
   "outputs": [],
   "cell_type": "code",
   "source": [
    "l = get_label(seq);"
   ],
   "metadata": {},
   "execution_count": null
  },
  {
   "cell_type": "markdown",
   "source": [
    "And store in a vector only the value of the SLC label"
   ],
   "metadata": {}
  },
  {
   "outputs": [],
   "cell_type": "code",
   "source": [
    "SLC_vec = [l[i].SLC for i in eachindex(l)];"
   ],
   "metadata": {},
   "execution_count": null
  },
  {
   "cell_type": "markdown",
   "source": [
    "The value is equal to 0 until we reach LabelInc(1,\"SLC)"
   ],
   "metadata": {}
  },
  {
   "outputs": [],
   "cell_type": "code",
   "source": [
    "p1 = plot(SLC_vec, Layout(\n",
    "    xaxis_title=\"n° blocks\",\n",
    "    yaxis_title=\"SLC label\"\n",
    "))"
   ],
   "metadata": {},
   "execution_count": null
  },
  {
   "cell_type": "markdown",
   "source": [
    "## Simulate the acquisition and reconstruct the data\n",
    "Define simulation parameters and perform simulation"
   ],
   "metadata": {}
  },
  {
   "outputs": [],
   "cell_type": "code",
   "source": [
    "sim_params = KomaMRICore.default_sim_params()\n",
    "raw = @suppress simulate(obj, seq, sys; sim_params)"
   ],
   "metadata": {},
   "execution_count": null
  },
  {
   "cell_type": "markdown",
   "source": [
    "The simulated raw data stored the correct label for each profile"
   ],
   "metadata": {}
  },
  {
   "outputs": [],
   "cell_type": "code",
   "source": [
    "for p in [1,101,102,203]\n",
    "  slc = raw.profiles[p].head.idx.slice |> Int\n",
    "  println(\"Profile n°$p : SLC label = $slc\")\n",
    "end"
   ],
   "metadata": {},
   "execution_count": null
  },
  {
   "cell_type": "markdown",
   "source": [
    "MRIReco splits the data into 3 when the data are converted to the AcquisitionData structure. The dimensions are (contrast / slice / repetitions)"
   ],
   "metadata": {}
  },
  {
   "outputs": [],
   "cell_type": "code",
   "source": [
    "acqData = AcquisitionData(raw)\n",
    "acqData.kdata |> size"
   ],
   "metadata": {},
   "execution_count": null
  },
  {
   "cell_type": "markdown",
   "source": [
    "For multi-slice acquisition, MRIReco uses the same trajectory. We need to crop the trajectory."
   ],
   "metadata": {}
  },
  {
   "outputs": [],
   "cell_type": "code",
   "source": [
    "size_readout = size(acqData.traj[1].nodes,2) / 3 |> Int\n",
    "acqData.traj[1].nodes = acqData.traj[1].nodes[1:2,1:size_readout];"
   ],
   "metadata": {},
   "execution_count": null
  },
  {
   "cell_type": "markdown",
   "source": [
    "We need to normalize the trajectory to -0.5 to 0.5"
   ],
   "metadata": {}
  },
  {
   "outputs": [],
   "cell_type": "code",
   "source": [
    "C = maximum(2*abs.(acqData.traj[1].nodes[1:2]))\n",
    "acqData.traj[1].nodes ./= C\n",
    "acqData.traj[1].circular = false # Removing circular window\n",
    "\n",
    "Nx, Ny = raw.params[\"reconSize\"][1:2]\n",
    "\n",
    "recParams = Dict{Symbol,Any}()\n",
    "recParams[:reconSize] = (Nx, Ny)\n",
    "recParams[:densityWeighting] = true\n",
    "rec = reconstruction(acqData, recParams)\n",
    "image = abs.(reshape(rec,Nx,Ny,:));"
   ],
   "metadata": {},
   "execution_count": null
  },
  {
   "cell_type": "markdown",
   "source": [
    "Let's take a look at the first 2 images"
   ],
   "metadata": {}
  },
  {
   "outputs": [],
   "cell_type": "code",
   "source": [
    "p2 = plot_image(image[:,:,1], height=400);\n",
    "p3 = plot_image(image[:,:,2], height=400);"
   ],
   "metadata": {},
   "execution_count": null
  },
  {
   "cell_type": "markdown",
   "source": [
    "The signal ponderation is changing because we are acquiring the same slice position with a short TR sequence. Thus, the magnetization is not at equilibrium."
   ],
   "metadata": {}
  },
  {
   "cell_type": "markdown",
   "source": [
    "## Reconstruction using the labels LIN and PAR\n",
    "Rather than using the k-space trajectory calculated by KomaMRI and performing a NUFFT for the reconstruction, we can use the label LIN (phase encoding) and PAR (partition encoding).\n",
    "\n",
    "First, we will create an increment label for LIN"
   ],
   "metadata": {}
  },
  {
   "outputs": [],
   "cell_type": "code",
   "source": [
    "seq_LIN = PulseDesigner.EPI_example()\n",
    "lInc = LabelInc(1,\"LIN\");"
   ],
   "metadata": {},
   "execution_count": null
  },
  {
   "cell_type": "markdown",
   "source": [
    "We can put the increment at any stage between 2 ADC blocks. Here we will put it onto each ADC block."
   ],
   "metadata": {}
  },
  {
   "outputs": [],
   "cell_type": "code",
   "source": [
    "idx_ADC = is_ADC_on.(seq_LIN)\n",
    "for i in eachindex(idx_ADC)\n",
    "  idx_ADC[i] == 1 ? seq_LIN.EXT[i] = [lInc] : nothing;\n",
    "end"
   ],
   "metadata": {},
   "execution_count": null
  },
  {
   "cell_type": "markdown",
   "source": [
    "Because we want the label of each ADC to start from 0, we set the value to -1 on the first block."
   ],
   "metadata": {}
  },
  {
   "outputs": [],
   "cell_type": "code",
   "source": [
    "seq_LIN.EXT[1] = [LabelSet(-1,\"LIN\")];"
   ],
   "metadata": {},
   "execution_count": null
  },
  {
   "cell_type": "markdown",
   "source": [
    "Let's check the LIN label for each ADC"
   ],
   "metadata": {}
  },
  {
   "outputs": [],
   "cell_type": "code",
   "source": [
    "l = get_label(seq_LIN)\n",
    "l[idx_ADC][1:10]"
   ],
   "metadata": {},
   "execution_count": null
  },
  {
   "cell_type": "markdown",
   "source": [
    "We can now simulate the results"
   ],
   "metadata": {}
  },
  {
   "outputs": [],
   "cell_type": "code",
   "source": [
    "raw = @suppress simulate(obj, seq_LIN, sys; sim_params)"
   ],
   "metadata": {},
   "execution_count": null
  },
  {
   "cell_type": "markdown",
   "source": [
    "In order to not use the NUFFT reconstruction of MRIReco.jl, we need to change the trajectory name to \"cartesian\""
   ],
   "metadata": {}
  },
  {
   "outputs": [],
   "cell_type": "code",
   "source": [
    "raw.params[\"trajectory\"] = \"cartesian\"\n",
    "raw.params[\"encodedSize\"] = [seq.DEF[\"Nx\"],seq.DEF[\"Ny\"]];"
   ],
   "metadata": {},
   "execution_count": null
  },
  {
   "cell_type": "markdown",
   "source": [
    "We also need to estimate the profile center, which will be at the center of the readout. If it is not the case, it should be specified in `f.profiles[i].head.center_sample = center_sample` and `estimateProfileCenter = false`"
   ],
   "metadata": {}
  },
  {
   "outputs": [],
   "cell_type": "code",
   "source": [
    "acqData = AcquisitionData(raw,estimateProfileCenter=true);"
   ],
   "metadata": {},
   "execution_count": null
  },
  {
   "cell_type": "markdown",
   "source": [
    "Let's see the results"
   ],
   "metadata": {}
  },
  {
   "outputs": [],
   "cell_type": "code",
   "source": [
    "recParams = Dict{Symbol,Any}()\n",
    "rec = reconstruction(acqData, recParams);\n",
    "\n",
    "p4=plot_image(abs.(rec[:,:,1]), height=400);"
   ],
   "metadata": {},
   "execution_count": null
  },
  {
   "cell_type": "markdown",
   "source": [
    "---\n",
    "\n",
    "*This notebook was generated using [Literate.jl](https://github.com/fredrikekre/Literate.jl).*"
   ],
   "metadata": {}
  }
 ],
 "nbformat_minor": 3,
 "metadata": {
  "language_info": {
   "file_extension": ".jl",
   "mimetype": "application/julia",
   "name": "julia",
   "version": "1.11.7"
  },
  "kernelspec": {
   "name": "julia-1.11",
   "display_name": "Julia 1.11.7",
   "language": "julia"
  }
 },
 "nbformat": 4
}
