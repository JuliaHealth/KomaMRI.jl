{
 "cells": [
  {
   "cell_type": "markdown",
   "source": [
    "# Cardiac Cine MRI with Arrhythmias"
   ],
   "metadata": {}
  },
  {
   "outputs": [],
   "cell_type": "code",
   "source": [
    "using KomaMRI, PlotlyJS, Plots, Printf, Suppressor; #hide\n",
    "include(joinpath(dirname(pathof(KomaMRI)), \"../examples/3.tutorials/utils/RRVariability.jl\")); #hide\n",
    "sys = Scanner(); #hide"
   ],
   "metadata": {},
   "execution_count": null
  },
  {
   "cell_type": "markdown",
   "source": [
    "This tutorial shows how to simulate cardiac cine MRI using Koma,\n",
    "including cases with variable RR intervals (i.e., arrhythmias). You'll learn how to:"
   ],
   "metadata": {}
  },
  {
   "cell_type": "markdown",
   "source": [
    "1. Simulate a clean cine acquisition with constant RR intervals.\n",
    "2. Introduce arrhythmias (variable RR intervals) into the cardiac phantom.\n",
    "3. Observe how this desynchronization degrades image quality.\n",
    "4. Correct the acquisition by synchronizing the sequence with the phantom’s RR variability (manual triggering)."
   ],
   "metadata": {}
  },
  {
   "cell_type": "markdown",
   "source": [
    "### 1. Constant RR for Phantom and Sequence\n",
    "\n",
    "We will begin by simulating a cardiac cine on a myocardial phantom with a constant RR interval.\n",
    "We'll use the `heart_phantom` function to create a ring-shaped phantom filled with blood, resembling the left ventricle:"
   ],
   "metadata": {}
  },
  {
   "outputs": [],
   "cell_type": "code",
   "source": [
    "obj = heart_phantom();"
   ],
   "metadata": {},
   "execution_count": null
  },
  {
   "cell_type": "markdown",
   "source": [
    "By default, this phantom exhibits periodic contraction and rotation with a 1-second period:"
   ],
   "metadata": {}
  },
  {
   "outputs": [],
   "cell_type": "code",
   "source": [
    "p1 = plot_phantom_map(obj, :T1 ; height=450, time_samples=21) #hide"
   ],
   "metadata": {},
   "execution_count": null
  },
  {
   "cell_type": "markdown",
   "source": [
    "As shown in previous tutorials, the phantom's motion is defined by its `motion` field.\n",
    "Until now, this motion has typically consisted of a single `Motion` component.\n",
    "In this case, however, it consists of two independent motions: a contraction (`HeartBeat`)\n",
    "and a `Rotation`. These two are grouped together in a `MotionList` structure:"
   ],
   "metadata": {}
  },
  {
   "outputs": [],
   "cell_type": "code",
   "source": [
    "obj.motion"
   ],
   "metadata": {},
   "execution_count": null
  },
  {
   "cell_type": "markdown",
   "source": [
    "Now, we will create a bSSFP cine sequence with the following parameters:"
   ],
   "metadata": {}
  },
  {
   "outputs": [],
   "cell_type": "code",
   "source": [
    "RRs          = [1.0]       # [s] constant RR interval\n",
    "N_matrix     = 50          # image size = N x N\n",
    "N_phases     = 25          # Number of cardiac phases\n",
    "FOV          = 0.11        # [m]\n",
    "TR           = 25e-3       # [s]\n",
    "flip_angle   = 10          # [º]\n",
    "adc_duration = 0.2e-3;     # [s]"
   ],
   "metadata": {},
   "execution_count": null
  },
  {
   "outputs": [],
   "cell_type": "code",
   "source": [
    "seq = bSSFP_cine(\n",
    "    FOV, N_matrix, TR, flip_angle, RRs, N_phases, sys;\n",
    "    N_dummy_cycles = 40, adc_duration = adc_duration,\n",
    ");\n",
    "\n",
    "# Simulation  #hide\n",
    "raw1 = @suppress simulate(obj, seq, sys); #hide\n",
    "# Reconstruction #hide\n",
    "frames1 = @suppress reconstruct_cine(raw1, seq, N_matrix, N_phases); #hide"
   ],
   "metadata": {},
   "execution_count": null
  },
  {
   "cell_type": "markdown",
   "source": [
    "The simulation and subsequent reconstruction produces the following cine frames,\n",
    "which look clean and temporally coherent:"
   ],
   "metadata": {}
  },
  {
   "outputs": [],
   "cell_type": "code",
   "source": [
    "fps = 25 #hide\n",
    "p2 = @suppress plot_cine(frames1, fps; Δt=TR, filename=\"../assets/tut-7-frames1.gif\"); #hide\n",
    "display(p2);"
   ],
   "metadata": {},
   "execution_count": null
  },
  {
   "cell_type": "markdown",
   "source": [
    "### 2. Arrhythmic Phantom: Variable RR, Constant Sequence\n",
    "\n",
    "Now, we will introduce arrhythmias into the phantom by varying its RR intervals.\n",
    "However, the sequence will still assume a constant RR interval of 1 second."
   ],
   "metadata": {}
  },
  {
   "outputs": [],
   "cell_type": "code",
   "source": [
    "RRs = [900, 1100, 1000, 1000, 1000, 800] .* 1e-3;"
   ],
   "metadata": {},
   "execution_count": null
  },
  {
   "cell_type": "markdown",
   "source": [
    "Let's apply the new `RRs` to the phantom:"
   ],
   "metadata": {}
  },
  {
   "outputs": [],
   "cell_type": "code",
   "source": [
    "# Take the time curve from the contraction motion:\n",
    "t_curve = obj.motion.motions[1].time\n",
    "# Generate a new time curve:\n",
    "t_curve_new = TimeCurve(\n",
    "    t = t_curve.t,\n",
    "    t_unit = t_curve.t_unit,\n",
    "    periodic = true,\n",
    "    periods = RRs\n",
    ")\n",
    "# Assign the new time curve to both the contraction and the rotation:\n",
    "obj.motion.motions[1].time = t_curve_new\n",
    "obj.motion.motions[2].time = t_curve_new;"
   ],
   "metadata": {},
   "execution_count": null
  },
  {
   "cell_type": "markdown",
   "source": [
    "Let’s visualize how the motion pattern has changed, now with variable-duration RR intervals:"
   ],
   "metadata": {}
  },
  {
   "outputs": [],
   "cell_type": "code",
   "source": [
    "p3 = plot_phantom_map(obj, :T1 ; height=450, time_samples=41) #hide"
   ],
   "metadata": {},
   "execution_count": null
  },
  {
   "cell_type": "markdown",
   "source": [
    "Since the sequence still assumes a constant RR interval, it becomes unsynchronized with the phantom.\n",
    "This results in artifacts and temporal inconsistencies in the cine images. We will showcase these images in the next section."
   ],
   "metadata": {}
  },
  {
   "outputs": [],
   "cell_type": "code",
   "source": [
    "# Simulation  #hide\n",
    "raw2 = @suppress simulate(obj, seq, sys) #hide\n",
    "# Reconstruction #hide\n",
    "frames2 = @suppress reconstruct_cine(raw2, seq, N_matrix, N_phases); #hide\n",
    "\n",
    "plot_cine(frames2, fps; Δt=TR, filename=\"tut-7-frames2.gif\");"
   ],
   "metadata": {},
   "execution_count": null
  },
  {
   "cell_type": "markdown",
   "source": [
    "### 3. Prospective Triggering: Resynchronized Acquisition\n",
    "To correct this, we synchronize the sequence **manually** by providing it the same RR intervals as the phantom:"
   ],
   "metadata": {}
  },
  {
   "outputs": [],
   "cell_type": "code",
   "source": [
    "seq = bSSFP_cine(\n",
    "    FOV, N_matrix, TR, flip_angle, RRs, N_phases, sys;\n",
    "    N_dummy_cycles = 40, adc_duration = adc_duration,\n",
    ");"
   ],
   "metadata": {},
   "execution_count": null
  },
  {
   "cell_type": "markdown",
   "source": [
    "This approach manually mimics cardiac triggering. The resulting cine is\n",
    "once again correctly aligned, despite the underlying arrhythmia.\n",
    "\n",
    "In the future, this synchronization will be handled automatically\n",
    "through upcoming support for trigger extensions in the sequence framework."
   ],
   "metadata": {}
  },
  {
   "outputs": [],
   "cell_type": "code",
   "source": [
    "# Simulation  #hide\n",
    "raw3 = @suppress simulate(obj, seq, sys) #hide\n",
    "# Reconstruction #hide\n",
    "frames3 = @suppress reconstruct_cine(raw3, seq, N_matrix, N_phases); #hide\n",
    "\n",
    "plot_cine(frames3, fps; Δt=TR, filename=\"tut-7-frames3.gif\");"
   ],
   "metadata": {},
   "execution_count": null
  },
  {
   "cell_type": "markdown",
   "source": [
    "---\n",
    "\n",
    "*This notebook was generated using [Literate.jl](https://github.com/fredrikekre/Literate.jl).*"
   ],
   "metadata": {}
  }
 ],
 "nbformat_minor": 3,
 "metadata": {
  "language_info": {
   "file_extension": ".jl",
   "mimetype": "application/julia",
   "name": "julia",
   "version": "1.11.6"
  },
  "kernelspec": {
   "name": "julia-1.11",
   "display_name": "Julia 1.11.6",
   "language": "julia"
  }
 },
 "nbformat": 4
}
