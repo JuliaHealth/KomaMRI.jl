{
 "cells": [
  {
   "cell_type": "markdown",
   "source": [
    "# Phantom"
   ],
   "metadata": {}
  },
  {
   "outputs": [],
   "cell_type": "code",
   "source": [
    "using KomaMRI #hide\n",
    "import DisplayAs #hide"
   ],
   "metadata": {},
   "execution_count": null
  },
  {
   "cell_type": "markdown",
   "source": [
    "The first input argument that **KomaMRI** needs for simulating is the phantom."
   ],
   "metadata": {}
  },
  {
   "cell_type": "markdown",
   "source": [
    "This section goes over the concept of digital phantom and shows how it applies to the specific case\n",
    "of **KomaMRI**. We'll go into detail about the `Phantom` structure and its supported operations."
   ],
   "metadata": {}
  },
  {
   "cell_type": "markdown",
   "source": [
    "## Digital Phantom"
   ],
   "metadata": {}
  },
  {
   "cell_type": "markdown",
   "source": [
    "A digital phantom is basically a computer model of a physical object (like the human body or a body part)\n",
    "which is used  in simulations to mimic the characteristics and behaviour that would be obtained from\n",
    "real MRI. Instead of using a physical object for testing, the digital phantom allows for virtual experiments."
   ],
   "metadata": {}
  },
  {
   "cell_type": "markdown",
   "source": [
    "This computer model should essentially contain information about the position and/or displacements\n",
    "of the tissues, as well as their MRI-related (T1, T2, PD, off-resonance...) values."
   ],
   "metadata": {}
  },
  {
   "cell_type": "markdown",
   "source": [
    "## KomaMRI Phantom Overview\n",
    "In Koma, a phantom is made up of a set of spins (which in many cases are also known as ''isochromats'').\n",
    "Each spin is independent of the others in terms of properties, position and state.\n",
    "This is a key feature of **KomaMRI**, as it is explained in the [Simulation](6-simulation.md) section."
   ],
   "metadata": {}
  },
  {
   "cell_type": "markdown",
   "source": [
    "Let's take a look at the definition of the `Phantom` struct\n",
    "inside Koma's source code to see what it looks like:\n",
    "```julia\n",
    "@with_kw mutable struct Phantom{T<:Real}\n",
    "    name::String = \"spins\"\n",
    "    x::AbstractVector{T}\n",
    "    y::AbstractVector{T}   = zeros(eltype(x), size(x))\n",
    "    z::AbstractVector{T}   = zeros(eltype(x), size(x))\n",
    "    ρ::AbstractVector{T}   = ones(eltype(x), size(x))\n",
    "    T1::AbstractVector{T}  = ones(eltype(x), size(x)) * 1_000_000\n",
    "    T2::AbstractVector{T}  = ones(eltype(x), size(x)) * 1_000_000\n",
    "    T2s::AbstractVector{T} = ones(eltype(x), size(x)) * 1_000_000\n",
    "    #Off-resonance related\n",
    "    Δw::AbstractVector{T}  = zeros(eltype(x), size(x))\n",
    "    #Diffusion\n",
    "    Dλ1::AbstractVector{T} = zeros(eltype(x), size(x))\n",
    "    Dλ2::AbstractVector{T} = zeros(eltype(x), size(x))\n",
    "    Dθ::AbstractVector{T}  = zeros(eltype(x), size(x))\n",
    "    #Motion\n",
    "    motion::Union{NoMotion, Motion{T}, MotionList{T}} = NoMotion()\n",
    "end\n",
    "```"
   ],
   "metadata": {}
  },
  {
   "cell_type": "markdown",
   "source": [
    "This structure consists of several elements. Most of them are vectors, except for\n",
    "the `name` (self-explanatory) and `motion` (explained below) fields.\n",
    "These vectors represent object properties, with each element holding a value associated\n",
    "with a single magnetization (i.e. a single spin).\n",
    "Specifically, `x`, `y` and `z` are the initial spatial coordinates of each spin.\n",
    "`ρ` stands for the proton density, and `T1`, `T2` and `T2s` (standing for T2*)\n",
    "are the well-known relaxation times. `Δw` accounts for off-resonance effects.\n",
    "`Dλ1`, `Dλ2` and `Dθ` are diffusion-related fields which are not in use at the moment.\n",
    "Last, the `motion` field stands for spin displacements, which are added to `x`, `y` and `z`\n",
    "when simulating in order to obtain the spin positions at each time step. For more information about\n",
    "motion, refer to [Motion](2-motion.md) section."
   ],
   "metadata": {}
  },
  {
   "cell_type": "markdown",
   "source": [
    "To get an even better understanding on how this structure works, let's look at an example of a brain phantom:"
   ],
   "metadata": {}
  },
  {
   "outputs": [],
   "cell_type": "code",
   "source": [
    "obj = brain_phantom2D()"
   ],
   "metadata": {},
   "execution_count": null
  },
  {
   "cell_type": "markdown",
   "source": [
    "You can visualize the **Phantom** struct using the `plot_phantom_map` function,\n",
    "which is part of the **KomaMRIPlots** subdependency. This function plots the magnitude of a property for\n",
    "each magnetization at a specific spatial position. You can observe properties such as proton density\n",
    "and relaxation times, so feel free to replace the `:T1` symbol with another property of the phantom in the example below:"
   ],
   "metadata": {}
  },
  {
   "outputs": [],
   "cell_type": "code",
   "source": [
    "p1 = plot_phantom_map(obj, :T1; height=450)"
   ],
   "metadata": {},
   "execution_count": null
  },
  {
   "cell_type": "markdown",
   "source": [
    "You can access and filter information for the all the field names of a **Phantom** using the dot notation:"
   ],
   "metadata": {}
  },
  {
   "outputs": [],
   "cell_type": "code",
   "source": [
    "obj.name"
   ],
   "metadata": {},
   "execution_count": null
  },
  {
   "outputs": [],
   "cell_type": "code",
   "source": [
    "obj.x"
   ],
   "metadata": {},
   "execution_count": null
  },
  {
   "outputs": [],
   "cell_type": "code",
   "source": [
    "obj.motion"
   ],
   "metadata": {},
   "execution_count": null
  },
  {
   "cell_type": "markdown",
   "source": [
    "## Phantom Operations"
   ],
   "metadata": {}
  },
  {
   "cell_type": "markdown",
   "source": [
    "In addition, **KomaMRI** supports some phantom operations:"
   ],
   "metadata": {}
  },
  {
   "cell_type": "markdown",
   "source": [
    "### Phantom Subset"
   ],
   "metadata": {}
  },
  {
   "cell_type": "markdown",
   "source": [
    "It is possible to access a subset of spins in a **Phantom** by slicing or indexing. The result will also be a\n",
    "**Phantom** struct, allowing you to perform the same operations as you would with a full Phantom:"
   ],
   "metadata": {}
  },
  {
   "outputs": [],
   "cell_type": "code",
   "source": [
    "obj[1:2000]\n",
    "p2 = plot_phantom_map(obj[1:1000], :T2 ; height=450) #hide"
   ],
   "metadata": {},
   "execution_count": null
  },
  {
   "cell_type": "markdown",
   "source": [
    "### Combination of Phantoms"
   ],
   "metadata": {}
  },
  {
   "cell_type": "markdown",
   "source": [
    "In the same way, we can add two or more phantoms, resulting in another `Phantom` struct:"
   ],
   "metadata": {}
  },
  {
   "outputs": [],
   "cell_type": "code",
   "source": [
    "obj2 = pelvis_phantom2D()\n",
    "obj2.x .+= 0.1; obj.x.-= 0.1 #hide\n",
    "obj_sum = obj + obj2\n",
    "p3 = plot_phantom_map(obj_sum, :T1 ; height=450) #hide"
   ],
   "metadata": {},
   "execution_count": null
  },
  {
   "cell_type": "markdown",
   "source": [
    "### Scalar multiplication of a Phantom"
   ],
   "metadata": {}
  },
  {
   "cell_type": "markdown",
   "source": [
    "Finally, multiplying a phantom by a scalar multiplies its proton density (`ρ`) by that amount:"
   ],
   "metadata": {}
  },
  {
   "outputs": [],
   "cell_type": "code",
   "source": [
    "obj_mul = 3*obj;"
   ],
   "metadata": {},
   "execution_count": null
  },
  {
   "outputs": [],
   "cell_type": "code",
   "source": [
    "obj.ρ"
   ],
   "metadata": {},
   "execution_count": null
  },
  {
   "outputs": [],
   "cell_type": "code",
   "source": [
    "obj_mul.ρ"
   ],
   "metadata": {},
   "execution_count": null
  },
  {
   "cell_type": "markdown",
   "source": [
    "## Phantom Storage and Sharing\n",
    "Phantoms can be stored and shared thanks to our new [Phantom File Format](3-phantom-format.md)."
   ],
   "metadata": {}
  },
  {
   "cell_type": "markdown",
   "source": [
    "---\n",
    "\n",
    "*This notebook was generated using [Literate.jl](https://github.com/fredrikekre/Literate.jl).*"
   ],
   "metadata": {}
  }
 ],
 "nbformat_minor": 3,
 "metadata": {
  "language_info": {
   "file_extension": ".jl",
   "mimetype": "application/julia",
   "name": "julia",
   "version": "1.12.0"
  },
  "kernelspec": {
   "name": "julia-1.12",
   "display_name": "Julia 1.12.0",
   "language": "julia"
  }
 },
 "nbformat": 4
}
